{
 "cells": [
  {
   "cell_type": "code",
   "execution_count": 4,
   "metadata": {},
   "outputs": [],
   "source": [
    "import json\n",
    "from os import walk\n",
    "from os.path import isfile, join\n",
    "import matplotlib.pyplot as plt\n",
    "from math import sqrt\n",
    "import numpy as np"
   ]
  },
  {
   "cell_type": "code",
   "execution_count": 6,
   "metadata": {},
   "outputs": [
    {
     "name": "stdout",
     "output_type": "stream",
     "text": [
      "len of inputs:  40\n",
      "alphas\n",
      "[0.001]\n",
      "beta_envs\n",
      "[0.01, 0.011727470767766642, 0.013753357060882113, 0.0161292092890152, 0.018915483044411596, 0.022183077446152256, 0.02601513922888541, 0.030509178482613288, 0.03577954988034226, 0.041960362530556204, 0.04920889249819889, 0.057709584828679876, 0.06767874690982925, 0.07937005259841, 0.09308099716839537, 0.10916046733269268, 0.1280176189639899, 0.15013228841592802, 0.17606720236957063, 0.20648229689515943, 0.24215151008992952, 0.28398247559501977, 0.3330396181098598, 0.3905712385891547, 0.4580412783284723, 0.5371665702027626, 0.6299605249474366, 0.7387843641167992, 0.866407203386283, 1.0160765150695081, 1.1916007628291865, 1.397446311292771, 1.6388510765209305, 1.9219578092622114, 2.253970402500339, 2.643337200673395, 3.0999659750247335, 3.63547603531738, 4.263493893110076, 4.999999999999999]\n",
      "epsilons\n",
      "[0.05]\n",
      "times\n",
      "[100.0]\n"
     ]
    }
   ],
   "source": [
    "filepath = \"/Users/matt/repos/thermal_state_prep/numerics/data/two_level/fixed_epsilon.json\"\n",
    "with open(filepath) as f:\n",
    "    j = json.load(f)\n",
    "    inputs = j[\"inputs\"]\n",
    "    outputs = j[\"outputs\"]\n",
    "    num_samples = j[\"num_samples\"]\n",
    "    dim_sys = j[\"dim_sys\"]\n",
    "    label = j[\"label\"]\n",
    "    if len(inputs) != len(outputs):\n",
    "        raise Exception(\"inputs and outputs are not the same length.\")\n",
    "    print(\"len of inputs: \", len(inputs))\n",
    "alphas, beta_envs, epsilons, times = set(), set(), set(), set()\n",
    "for (alpha, beta_env, beta_sys, time) in inputs:\n",
    "    alphas.add(alpha)\n",
    "    beta_envs.add(beta_env)\n",
    "    epsilons.add(beta_sys)\n",
    "    times.add(time)\n",
    "alphas = list(alphas)\n",
    "alphas.sort()\n",
    "beta_envs = list(beta_envs)\n",
    "beta_envs.sort()\n",
    "epsilons = list(epsilons)\n",
    "epsilons.sort()\n",
    "times = list(times)\n",
    "times.sort()\n",
    "\n",
    "print(\"alphas\")\n",
    "print(alphas)\n",
    "print(\"beta_envs\")\n",
    "print(beta_envs)\n",
    "print(\"epsilons\")\n",
    "print(epsilons)\n",
    "print(\"times\")\n",
    "print(times)\n",
    "    "
   ]
  },
  {
   "cell_type": "code",
   "execution_count": 7,
   "metadata": {},
   "outputs": [
    {
     "name": "stdout",
     "output_type": "stream",
     "text": [
      "beta_env, beta_sys, time 0.001 0.05 100.0\n",
      "beta_env, num_interactions =  0.01 ,  1\n",
      "beta_env, num_interactions =  0.011727470767766642 ,  1\n",
      "beta_env, num_interactions =  0.013753357060882113 ,  1\n",
      "beta_env, num_interactions =  0.0161292092890152 ,  1\n",
      "beta_env, num_interactions =  0.018915483044411596 ,  1\n",
      "beta_env, num_interactions =  0.022183077446152256 ,  1\n",
      "beta_env, num_interactions =  0.02601513922888541 ,  1\n",
      "beta_env, num_interactions =  0.030509178482613288 ,  1\n",
      "beta_env, num_interactions =  0.03577954988034226 ,  1\n",
      "beta_env, num_interactions =  0.041960362530556204 ,  1\n",
      "beta_env, num_interactions =  0.04920889249819889 ,  1\n",
      "beta_env, num_interactions =  0.057709584828679876 ,  1\n",
      "beta_env, num_interactions =  0.06767874690982925 ,  1\n",
      "beta_env, num_interactions =  0.07937005259841 ,  1\n",
      "beta_env, num_interactions =  0.09308099716839537 ,  1\n",
      "beta_env, num_interactions =  0.10916046733269268 ,  87\n",
      "beta_env, num_interactions =  0.1280176189639899 ,  254\n",
      "beta_env, num_interactions =  0.15013228841592802 ,  433\n",
      "beta_env, num_interactions =  0.17606720236957063 ,  622\n",
      "beta_env, num_interactions =  0.20648229689515943 ,  828\n",
      "beta_env, num_interactions =  0.24215151008992952 ,  1058\n",
      "beta_env, num_interactions =  0.28398247559501977 ,  1305\n",
      "beta_env, num_interactions =  0.3330396181098598 ,  1559\n",
      "beta_env, num_interactions =  0.3905712385891547 ,  1860\n",
      "beta_env, num_interactions =  0.4580412783284723 ,  2184\n",
      "beta_env, num_interactions =  0.5371665702027626 ,  2556\n",
      "beta_env, num_interactions =  0.6299605249474366 ,  2929\n",
      "beta_env, num_interactions =  0.7387843641167992 ,  3357\n",
      "beta_env, num_interactions =  0.866407203386283 ,  3756\n",
      "beta_env, num_interactions =  1.0160765150695081 ,  4175\n",
      "beta_env, num_interactions =  1.1916007628291865 ,  4538\n",
      "beta_env, num_interactions =  1.397446311292771 ,  4804\n",
      "beta_env, num_interactions =  1.6388510765209305 ,  4996\n",
      "beta_env, num_interactions =  1.9219578092622114 ,  4960\n",
      "beta_env, num_interactions =  2.253970402500339 ,  4753\n",
      "beta_env, num_interactions =  2.643337200673395 ,  4352\n",
      "beta_env, num_interactions =  3.0999659750247335 ,  3864\n",
      "beta_env, num_interactions =  3.63547603531738 ,  3377\n",
      "beta_env, num_interactions =  4.263493893110076 ,  2915\n",
      "beta_env, num_interactions =  4.999999999999999 ,  2557\n"
     ]
    },
    {
     "data": {
      "image/png": "[encoded data removed]",
      "text/plain": [
       "<Figure size 640x480 with 1 Axes>"
      ]
     },
     "metadata": {},
     "output_type": "display_data"
    }
   ],
   "source": [
    "\n",
    "fixed_params = [(alphas[0], epsilons[0], times[ix]) for ix in range(len(times))]\n",
    "fig = plt.figure()\n",
    "colors = ['r', 'b', 'g', 'black', 'orange']\n",
    "color_count = 0\n",
    "for ( alpha_0, epsilon_0, time_0) in fixed_params:\n",
    "    print(\"beta_env, beta_sys, time\", alpha_0, epsilon_0, time_0)\n",
    "    x = []\n",
    "    y = []\n",
    "    yerr = []\n",
    "    for ix in range(len(inputs)):\n",
    "        (alpha, beta_env, epsilon, time) = inputs[ix]\n",
    "        (num_interactions, mean_dist, std_dist, dist_of_mean) = outputs[ix]\n",
    "        if alpha == alpha_0 and epsilon == epsilon_0 and time == time_0:\n",
    "            x.append(beta_env)\n",
    "            y.append(num_interactions)\n",
    "\n",
    "            print(\"beta_env, num_interactions = \", beta_env, \", \", num_interactions)\n",
    "    plt.plot(x, y, marker='x', linestyle='none', label=\"a={:.4f}, ep={:.2f}, t={:.1f}\".format(alpha_0, epsilon_0, time_0), color=colors[color_count])\n",
    "    color_count += 1\n",
    "plt.xscale('log')\n",
    "# plt.yscale('log')\n",
    "plt.xlabel(\"Beta_env\")\n",
    "plt.ylabel(\"Number of interactions\")\n",
    "plt.legend()\n",
    "plt.show()"
   ]
  }
 ],
 "metadata": {
  "kernelspec": {
   "display_name": "tda",
   "language": "python",
   "name": "python3"
  },
  "language_info": {
   "codemirror_mode": {
    "name": "ipython",
    "version": 3
   },
   "file_extension": ".py",
   "mimetype": "text/x-python",
   "name": "python",
   "nbconvert_exporter": "python",
   "pygments_lexer": "ipython3",
   "version": "3.12.2"
  }
 },
 "nbformat": 4,
 "nbformat_minor": 2
}
