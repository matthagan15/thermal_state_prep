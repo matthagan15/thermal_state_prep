{
 "cells": [
  {
   "cell_type": "code",
   "execution_count": 1,
   "metadata": {},
   "outputs": [],
   "source": [
    "import json\n",
    "from os import walk\n",
    "from os.path import isfile, join\n",
    "import matplotlib.pyplot as plt\n",
    "from math import sqrt\n",
    "import numpy as np"
   ]
  },
  {
   "cell_type": "code",
   "execution_count": 4,
   "metadata": {},
   "outputs": [
    {
     "name": "stdout",
     "output_type": "stream",
     "text": [
      "len of inputs:  20\n",
      "alphas\n",
      "[0.004999999999999999]\n",
      "beta_envs\n",
      "[0.1, 0.12286253559934776, 0.15095202653901, 0.185463487344428, 0.22786514316233974, 0.2799608926363344, 0.34396705137956807, 0.4226066409512487, 0.5192252346839357, 0.6379332888043474, 0.7837810140573315, 0.9629732274171177, 1.1831333243475444, 1.4536276018142484, 1.7859637297609765, 2.1942803232690182, 2.695948443325881, 3.312310615921323, 4.06958880964731, 4.999999999999999]\n",
      "epsilons\n",
      "[0.05]\n",
      "times\n",
      "[500.0]\n"
     ]
    }
   ],
   "source": [
    "filepath = \"/Users/matt/repos/thermal_state_prep/numerics/data/fixed_epsilon_harmonic/beta_env.json\"\n",
    "with open(filepath) as f:\n",
    "    j = json.load(f)\n",
    "    inputs = j[\"inputs\"]\n",
    "    outputs = j[\"outputs\"]\n",
    "    num_samples = j[\"num_samples\"]\n",
    "    dim_sys = j[\"dim_sys\"]\n",
    "    label = j[\"label\"]\n",
    "    if len(inputs) != len(outputs):\n",
    "        raise Exception(\"inputs and outputs are not the same length.\")\n",
    "    print(\"len of inputs: \", len(inputs))\n",
    "alphas, beta_envs, epsilons, times = set(), set(), set(), set()\n",
    "for (alpha, beta_env, beta_sys, time) in inputs:\n",
    "    alphas.add(alpha)\n",
    "    beta_envs.add(beta_env)\n",
    "    epsilons.add(beta_sys)\n",
    "    times.add(time)\n",
    "alphas = list(alphas)\n",
    "alphas.sort()\n",
    "beta_envs = list(beta_envs)\n",
    "beta_envs.sort()\n",
    "epsilons = list(epsilons)\n",
    "epsilons.sort()\n",
    "times = list(times)\n",
    "times.sort()\n",
    "\n",
    "print(\"alphas\")\n",
    "print(alphas)\n",
    "print(\"beta_envs\")\n",
    "print(beta_envs)\n",
    "print(\"epsilons\")\n",
    "print(epsilons)\n",
    "print(\"times\")\n",
    "print(times)\n",
    "    "
   ]
  },
  {
   "cell_type": "code",
   "execution_count": 7,
   "metadata": {},
   "outputs": [
    {
     "name": "stdout",
     "output_type": "stream",
     "text": [
      "beta_env, beta_sys, time 0.004999999999999999 0.05 500.0\n",
      "beta_env, num_interactions =  0.1 ,  29\n",
      "beta_env, num_interactions =  0.12286253559934776 ,  39\n",
      "beta_env, num_interactions =  0.15095202653901 ,  47\n",
      "beta_env, num_interactions =  0.185463487344428 ,  56\n",
      "beta_env, num_interactions =  0.22786514316233974 ,  63\n",
      "beta_env, num_interactions =  0.2799608926363344 ,  68\n",
      "beta_env, num_interactions =  0.34396705137956807 ,  72\n",
      "beta_env, num_interactions =  0.4226066409512487 ,  73\n",
      "beta_env, num_interactions =  0.5192252346839357 ,  70\n",
      "beta_env, num_interactions =  0.6379332888043474 ,  66\n",
      "beta_env, num_interactions =  0.7837810140573315 ,  60\n",
      "beta_env, num_interactions =  0.9629732274171177 ,  53\n",
      "beta_env, num_interactions =  1.1831333243475444 ,  47\n",
      "beta_env, num_interactions =  1.4536276018142484 ,  41\n",
      "beta_env, num_interactions =  1.7859637297609765 ,  36\n",
      "beta_env, num_interactions =  2.1942803232690182 ,  32\n",
      "beta_env, num_interactions =  2.695948443325881 ,  30\n",
      "beta_env, num_interactions =  3.312310615921323 ,  28\n",
      "beta_env, num_interactions =  4.06958880964731 ,  27\n",
      "beta_env, num_interactions =  4.999999999999999 ,  26\n"
     ]
    },
    {
     "data": {
      "image/png": "[encoded data removed]",
      "text/plain": [
       "<Figure size 640x480 with 1 Axes>"
      ]
     },
     "metadata": {},
     "output_type": "display_data"
    }
   ],
   "source": [
    "\n",
    "fixed_params = [(alphas[0], epsilons[0], times[ix]) for ix in range(len(times))]\n",
    "fig = plt.figure()\n",
    "colors = ['r', 'b', 'g', 'black', 'orange']\n",
    "color_count = 0\n",
    "for ( alpha_0, epsilon_0, time_0) in fixed_params:\n",
    "    print(\"beta_env, beta_sys, time\", alpha_0, epsilon_0, time_0)\n",
    "    x = []\n",
    "    y = []\n",
    "    yerr = []\n",
    "    for ix in range(len(inputs)):\n",
    "        (alpha, beta_env, epsilon, time) = inputs[ix]\n",
    "        (num_interactions, mean_dist, std_dist, dist_of_mean) = outputs[ix]\n",
    "        if alpha == alpha_0 and epsilon == epsilon_0 and time == time_0:\n",
    "            x.append(beta_env)\n",
    "            y.append(num_interactions)\n",
    "\n",
    "            print(\"beta_env, num_interactions = \", beta_env, \", \", num_interactions)\n",
    "    plt.plot(x, y, marker='x', linestyle='none', label=\"a={:.4f}, ep={:.2f}, t={:.1f}\".format(alpha_0, epsilon_0, time_0), color=colors[color_count])\n",
    "    color_count += 1\n",
    "plt.xscale('log')\n",
    "# plt.yscale('log')\n",
    "plt.xlabel(\"Beta_env\")\n",
    "plt.ylabel(\"Number of interactions\")\n",
    "plt.legend()\n",
    "plt.show()"
   ]
  }
 ],
 "metadata": {
  "kernelspec": {
   "display_name": "tda",
   "language": "python",
   "name": "python3"
  },
  "language_info": {
   "codemirror_mode": {
    "name": "ipython",
    "version": 3
   },
   "file_extension": ".py",
   "mimetype": "text/x-python",
   "name": "python",
   "nbconvert_exporter": "python",
   "pygments_lexer": "ipython3",
   "version": "3.12.2"
  }
 },
 "nbformat": 4,
 "nbformat_minor": 2
}
