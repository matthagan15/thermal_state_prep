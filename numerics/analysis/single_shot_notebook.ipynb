{
 "cells": [
  {
   "cell_type": "code",
   "execution_count": 1,
   "metadata": {},
   "outputs": [],
   "source": [
    "import json\n",
    "from os import walk\n",
    "from os.path import isfile, join\n",
    "import matplotlib.pyplot as plt\n",
    "from math import sqrt\n",
    "import numpy as np"
   ]
  },
  {
   "cell_type": "code",
   "execution_count": 2,
   "metadata": {},
   "outputs": [
    {
     "name": "stdout",
     "output_type": "stream",
     "text": [
      "len of inputs:  240000\n"
     ]
    }
   ],
   "source": [
    "filepath = \"/Users/matt/repos/thermal_state_prep/numerics/cluster_data/single_shot_harmonic/results.json\"\n",
    "with open(filepath) as f:\n",
    "    j = json.load(f)\n",
    "    inputs = j[\"inputs\"]\n",
    "    outputs = j[\"outputs\"]\n",
    "    num_samples = j[\"num_samples\"]\n",
    "    dim_sys = j[\"dim_sys\"]\n",
    "    label = j[\"label\"]\n",
    "    if len(inputs) != len(outputs):\n",
    "        raise Exception(\"inputs and outputs are not the same length.\")\n",
    "    print(\"len of inputs: \", len(inputs))\n",
    "    "
   ]
  },
  {
   "cell_type": "code",
   "execution_count": null,
   "metadata": {},
   "outputs": [],
   "source": [
    "alphas, beta_envs, beta_syss, times = set(), set(), set(), set()\n",
    "for (alpha, beta_env, beta_sys, time) in inputs:\n",
    "    alphas.add(alpha)\n",
    "    beta_envs.add(beta_env)\n",
    "    beta_syss.add(beta_sys)\n",
    "    times.add(time)\n",
    "print(\"alphas\")\n",
    "print(alphas)\n",
    "print(\"beta_envs\")\n",
    "print(beta_envs)\n",
    "print(\"beta_syss\")\n",
    "print(beta_syss)\n",
    "print(\"times\")\n",
    "print(times)"
   ]
  }
 ],
 "metadata": {
  "kernelspec": {
   "display_name": "tda",
   "language": "python",
   "name": "python3"
  },
  "language_info": {
   "codemirror_mode": {
    "name": "ipython",
    "version": 3
   },
   "file_extension": ".py",
   "mimetype": "text/x-python",
   "name": "python",
   "nbconvert_exporter": "python",
   "pygments_lexer": "ipython3",
   "version": "3.12.2"
  }
 },
 "nbformat": 4,
 "nbformat_minor": 2
}
