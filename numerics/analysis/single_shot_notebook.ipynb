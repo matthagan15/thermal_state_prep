{
 "cells": [
  {
   "cell_type": "code",
   "execution_count": 1,
   "metadata": {},
   "outputs": [],
   "source": [
    "import json\n",
    "from os import walk\n",
    "from os.path import isfile, join\n",
    "import matplotlib.pyplot as plt\n",
    "from math import sqrt\n",
    "import numpy as np"
   ]
  },
  {
   "cell_type": "code",
   "execution_count": 2,
   "metadata": {},
   "outputs": [
    {
     "name": "stdout",
     "output_type": "stream",
     "text": [
      "len of inputs:  240000\n"
     ]
    }
   ],
   "source": [
    "filepath = \"/Users/matt/repos/thermal_state_prep/numerics/cluster_data/single_shot_harmonic/results.json\"\n",
    "with open(filepath) as f:\n",
    "    j = json.load(f)\n",
    "    inputs = j[\"inputs\"]\n",
    "    outputs = j[\"outputs\"]\n",
    "    num_samples = j[\"num_samples\"]\n",
    "    dim_sys = j[\"dim_sys\"]\n",
    "    label = j[\"label\"]\n",
    "    if len(inputs) != len(outputs):\n",
    "        raise Exception(\"inputs and outputs are not the same length.\")\n",
    "    print(\"len of inputs: \", len(inputs))\n",
    "    "
   ]
  },
  {
   "cell_type": "code",
   "execution_count": 3,
   "metadata": {},
   "outputs": [
    {
     "name": "stdout",
     "output_type": "stream",
     "text": [
      "alphas\n",
      "{0.009658620689655173, 0.007268965517241379, 0.00044137931034482665, 0.004879310344827585, 0.002489655172413792, 0.009317241379310346, 0.0069275862068965514, 9.99999999999994e-05, 0.004537931034482758, 0.008975862068965517, 0.0021482758620689647, 0.006586206896551724, 0.004196551724137931, 0.00863448275862069, 0.0018068965517241374, 0.006244827586206896, 0.0038551724137931027, 0.008293103448275862, 0.0014655172413793102, 0.005903448275862069, 0.0035137931034482754, 0.0011241379310344812, 0.007951724137931035, 0.005562068965517241, 0.0031724137931034473, 0.01, 0.0007827586206896539, 0.007610344827586207, 0.005220689655172413, 0.00283103448275862}\n",
      "beta_envs\n",
      "{1.0, 1.9473684210526314, 2.4210526315789473, 2.894736842105263, 1.4736842105263157, 3.3684210526315788, 3.8421052631578947, 4.315789473684211, 4.789473684210526, 5.263157894736842, 5.7368421052631575, 6.2105263157894735, 6.684210526315789, 7.157894736842105, 7.63157894736842, 8.105263157894736, 8.578947368421051, 9.052631578947368, 10.0, 9.526315789473683}\n",
      "beta_syss\n",
      "{0.0, 0.5263157894736842, 1.5789473684210527, 2.1052631578947367, 1.0526315789473684, 2.631578947368421, 3.1578947368421053, 3.6842105263157894, 4.2105263157894735, 4.7368421052631575, 5.263157894736842, 5.789473684210526, 6.315789473684211, 6.842105263157895, 7.368421052631579, 7.894736842105263, 8.421052631578947, 8.947368421052632, 9.473684210526315, 10.0}\n",
      "times\n",
      "{900.0, 650.0, 400.0, 150.0, 800.0, 550.0, 300.0, 50.0, 950.0, 700.0, 450.0, 200.0, 850.0, 600.0, 350.0, 100.0, 1000.0, 750.0, 500.0, 250.0}\n"
     ]
    }
   ],
   "source": [
    "alphas, beta_envs, beta_syss, times = set(), set(), set(), set()\n",
    "for (alpha, beta_env, beta_sys, time) in inputs:\n",
    "    alphas.add(alpha)\n",
    "    beta_envs.add(beta_env)\n",
    "    beta_syss.add(beta_sys)\n",
    "    times.add(time)\n",
    "print(\"alphas\")\n",
    "print(alphas)\n",
    "print(\"beta_envs\")\n",
    "print(beta_envs)\n",
    "print(\"beta_syss\")\n",
    "print(beta_syss)\n",
    "print(\"times\")\n",
    "print(times)"
   ]
  }
 ],
 "metadata": {
  "kernelspec": {
   "display_name": "tda",
   "language": "python",
   "name": "python3"
  },
  "language_info": {
   "codemirror_mode": {
    "name": "ipython",
    "version": 3
   },
   "file_extension": ".py",
   "mimetype": "text/x-python",
   "name": "python",
   "nbconvert_exporter": "python",
   "pygments_lexer": "ipython3",
   "version": "3.12.2"
  }
 },
 "nbformat": 4,
 "nbformat_minor": 2
}
